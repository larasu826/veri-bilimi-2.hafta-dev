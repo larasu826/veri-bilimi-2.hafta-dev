{
 "cells": [
  {
   "cell_type": "code",
   "execution_count": null,
   "id": "e0cb38e1-7446-42ea-9272-6e027d4aa726",
   "metadata": {},
   "outputs": [],
   "source": [
    "kelime = input(\"Bir kelime girin: \")\n",
    "\n",
    "harf_sayilari = {}\n",
    "\n",
    "for harf in kelime:\n",
    "    if harf in harf_sayilari:\n",
    "        harf_sayilari[harf] += 1\n",
    "    else:\n",
    "        harf_sayilari[harf] = 1\n",
    "\n",
    "print(harf_sayilari)\n"
   ]
  },
  {
   "cell_type": "code",
   "execution_count": null,
   "id": "db30e151-4800-4247-9ab6-f25a8626de4c",
   "metadata": {},
   "outputs": [],
   "source": [
    "sayi = int(input(\"Bir sayı girin: \"))\n",
    "if sayi > 0:\n",
    "    durum = \"Pozitif\"\n",
    "elif sayi < 0:\n",
    "    durum = \"Negatif\"\n",
    "else:\n",
    "    durum = \"Sıfır\"\n",
    "\n",
    "if sayi == 0:\n",
    "    tek_cift = \"\"\n",
    "elif sayi % 2 == 0:\n",
    "    tek_cift = \" Çift\"\n",
    "else:\n",
    "    tek_cift = \" Tek\"\n",
    "print(durum + tek_cift)"
   ]
  },
  {
   "cell_type": "code",
   "execution_count": null,
   "id": "606dd9d8-b14c-4ff8-ba19-f0a6e363365c",
   "metadata": {},
   "outputs": [],
   "source": [
    "sifre = input(\"Şifrenizi girin: \")\n",
    "\n",
    "uzunluk = len(sifre) >= 8\n",
    "buyuk_harf = any(harf.isupper() for harf in sifre)\n",
    "rakam = any(harf.isdigit() for harf in sifre)\n",
    "\n",
    "if uzunluk and buyuk_harf and rakam:\n",
    "    print(\"Şifre geçerli\")\n",
    "else:\n",
    "    print(\"Şifre geçersiz\")\n",
    "    if not uzunluk:\n",
    "        print(\"- En az 8 karakter olmalı\")\n",
    "    if not buyuk_harf:\n",
    "        print(\"- En az 1 büyük harf içermeli\")\n",
    "    if not rakam:\n",
    "        print(\"- En az 1 rakam içermeli\")\n"
   ]
  },
  {
   "cell_type": "code",
   "execution_count": null,
   "id": "84f8da00-ea48-4af7-9328-a778685486b4",
   "metadata": {},
   "outputs": [],
   "source": [
    "sayilar = [12, 4, 9, 25, 30, 7, 18]\n",
    "\n",
    "ortalama = sum(sayilar) / len(sayilar)\n",
    "\n",
    "buyukler = [sayi for sayi in sayilar if sayi > ortalama]\n",
    "\n",
    "# 3. Sonuçları yazdırma\n",
    "print(\"Ortalama:\", ortalama)\n",
    "print(\"Ortalamadan büyük sayılar:\", buyukler)"
   ]
  },
  {
   "cell_type": "code",
   "execution_count": null,
   "id": "28b5a97d-d2d3-4fc3-b76c-2f881ee9f3f1",
   "metadata": {},
   "outputs": [],
   "source": [
    "for i in range(1, 6):\n",
    "    print(\"*\" * i)"
   ]
  },
  {
   "cell_type": "code",
   "execution_count": null,
   "id": "cfd2f79a-ae2c-4151-8d1c-8843548ddcf2",
   "metadata": {},
   "outputs": [],
   "source": [
    "toplam = 0\n",
    "adet = 0\n",
    "\n",
    "while True:\n",
    "    sayi = int(input(\"Bir sayı girin (çıkmak için 0): \"))\n",
    "\n",
    "    if sayi == 0:\n",
    "        break\n",
    "\n",
    "    toplam += sayi\n",
    "    adet += 1\n",
    "\n",
    "if adet > 0:\n",
    "    ortalama = toplam / adet\n",
    "    print(\"Toplam:\", toplam)\n",
    "    print(\"Ortalama:\", ortalama)\n",
    "else:\n",
    "    print(\"Hiç sayı girilmedi.\n",
    "          "
   ]
  },
  {
   "cell_type": "code",
   "execution_count": null,
   "id": "5b12ebd1-0e71-49bb-b7a4-e31310cf4e9d",
   "metadata": {},
   "outputs": [],
   "source": [
    "kelime = input(\"Bir kelime girin: \")\n",
    "\n",
    "if kelime == kelime[::-1]:\n",
    "    print(\"Palindrom \")\n",
    "else:\n",
    "    print(\"Palindrom değil \")"
   ]
  },
  {
   "cell_type": "code",
   "execution_count": null,
   "id": "531db289-6721-4544-b44c-e316d2f269e4",
   "metadata": {},
   "outputs": [],
   "source": [
    "liste = [sayi**2 for sayi in range(1, 101) if sayi % 3 == 0 and sayi % 5 == 0]\n",
    "\n",
    "print(liste)"
   ]
  },
  {
   "cell_type": "code",
   "execution_count": null,
   "id": "77e870f1-7622-49df-a835-628c63dca5a6",
   "metadata": {},
   "outputs": [],
   "source": [
    "cumle = input(\"Bir cümle girin: \")\n",
    "\n",
    "kelimeler = cumle.split()\n",
    "kelimeler = [kelime.capitalize() for kelime in kelimeler]\n",
    "\n",
    "yeni_cumle = \" \".join(kelimeler)         #\n",
    "print(yeni_cumle)"
   ]
  },
  {
   "cell_type": "code",
   "execution_count": null,
   "id": "c98104c8-43a7-4c55-997c-6ce207e26c9b",
   "metadata": {},
   "outputs": [],
   "source": [
    "def film_yorumu_analizi():\n",
    "    yorumlar = []\n",
    "    print(\"Film yorumlarını girin (5-6 yorum):\")\n",
    "\n",
    "    for i in range(5):\n",
    "        yorum = input(f\"{i + 1}. yorum: \")\n",
    "        yorumlar.append(yorum)\n",
    "\n",
    "    ek_yorum = input(\"6. yorum (isteğe bağlı, boş bırakabilirsiniz): \")\n",
    "    if ek_yorum.strip():\n",
    "        yorumlar.append(ek_yorum)\n",
    "\n",
    "    toplam_yorum = len(yorumlar)\n",
    "\n",
    "    iyi_gecen_sayi = 0\n",
    "    for yorum in yorumlar:\n",
    "        if \"iyi\" in yorum.lower():\n",
    "            iyi_gecen_sayi += 1\n",
    "\n",
    "    yorum_uzunluklari = [len(yorum) for yorum in yorumlar]\n",
    "\n",
    "    en_uzun_yorum = max(yorumlar, key=len)\n",
    "    en_kisa_yorum = min(yorumlar, key=len)\n",
    "\n",
    "    ortalama_uzunluk = sum(yorum_uzunluklari) / toplam_yorum\n",
    "\n",
    "    print(\"\\n\" + \"=\" * 50)\n",
    "    print(\"FİLM YORUMU ANALİZ SONUÇLARI\")\n",
    "    print(\"=\" * 50)\n",
    "    print(f\"Toplam yorum sayısı: {toplam_yorum}\")\n",
    "    print(f\"\\\"iyi\\\" geçen yorum sayısı: {iyi_gecen_sayi}\")\n",
    "    print(f\"En uzun yorum: {en_uzun_yorum}\")\n",
    "    print(f\"En kısa yorum: {en_kisa_yorum}\")\n",
    "    print(f\"Ortalama uzunluk: {ortalama_uzunluk:.1f} karakter\")\n",
    "    print(\"=\" * 50)\n",
    "\n",
    "    print(\"\\nTüm Yorumlar ve Uzunlukları:\")\n",
    "    for i, (yorum, uzunluk) in enumerate(zip(yorumlar, yorum_uzunluklari), 1):\n",
    "        print(f\"{i}. {yorum} ({uzunluk} karakter)\")\n",
    "\n",
    "\n",
    "if __name__ == \"__main__\":\n",
    "    film_yorumu_analizi()"
   ]
  }
 ],
 "metadata": {
  "kernelspec": {
   "display_name": "anaconda-2024.02-py310",
   "language": "python",
   "name": "conda-env-anaconda-2024.02-py310-py"
  },
  "language_info": {
   "codemirror_mode": {
    "name": "ipython",
    "version": 3
   },
   "file_extension": ".py",
   "mimetype": "text/x-python",
   "name": "python",
   "nbconvert_exporter": "python",
   "pygments_lexer": "ipython3",
   "version": "3.10.14"
  }
 },
 "nbformat": 4,
 "nbformat_minor": 5
}
